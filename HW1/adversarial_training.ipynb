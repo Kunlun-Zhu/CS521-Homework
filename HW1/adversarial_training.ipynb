{
 "cells": [
  {
   "cell_type": "markdown",
   "metadata": {
    "id": "Whsg1XX_OZs6"
   },
   "source": [
    "# Boilerplate\n",
    "\n",
    "Package installation, loading, and dataloaders. There's also a simple model defined. You can change it your favourite architecture if you want."
   ]
  },
  {
   "cell_type": "code",
   "execution_count": 1,
   "metadata": {
    "id": "R1domTvnONqD"
   },
   "outputs": [
    {
     "data": {
      "text/plain": [
       "Sequential(\n",
       "  (0): Normalize()\n",
       "  (1): Net(\n",
       "    (fc): Linear(in_features=784, out_features=200, bias=True)\n",
       "    (fc2): Linear(in_features=200, out_features=10, bias=True)\n",
       "  )\n",
       ")"
      ]
     },
     "execution_count": 1,
     "metadata": {},
     "output_type": "execute_result"
    }
   ],
   "source": [
    "\n",
    "\n",
    "import torch\n",
    "import torch.nn as nn\n",
    "import torch.optim as optim\n",
    "import torch.nn.functional as F\n",
    "import numpy as np\n",
    "import time\n",
    "import matplotlib.pyplot as plt\n",
    "\n",
    "from torchvision import datasets, transforms\n",
    "# from tensorboardX import SummaryWriter\n",
    "\n",
    "use_cuda = False\n",
    "device = torch.device(\"cuda\" if use_cuda else \"cpu\")\n",
    "batch_size = 64\n",
    "np.random.seed(42)\n",
    "torch.manual_seed(42)\n",
    "\n",
    "\n",
    "## Dataloaders\n",
    "train_dataset = datasets.MNIST('mnist_data/', train=True, download=True, transform=transforms.Compose(\n",
    "    [transforms.ToTensor()]\n",
    "))\n",
    "test_dataset = datasets.MNIST('mnist_data/', train=False, download=True, transform=transforms.Compose(\n",
    "    [transforms.ToTensor()]\n",
    "))\n",
    "\n",
    "train_loader = torch.utils.data.DataLoader(train_dataset, batch_size=batch_size, shuffle=True)\n",
    "test_loader = torch.utils.data.DataLoader(test_dataset, batch_size=batch_size, shuffle=False)\n",
    "\n",
    "## Simple NN. You can change this if you want. If you change it, mention the architectural details in your report.\n",
    "class Net(nn.Module):\n",
    "    def __init__(self):\n",
    "        super(Net, self).__init__()\n",
    "        self.fc = nn.Linear(28*28, 200)\n",
    "        self.fc2 = nn.Linear(200,10)\n",
    "\n",
    "    def forward(self, x):\n",
    "        x = x.view((-1, 28*28))\n",
    "        x = F.relu(self.fc(x))\n",
    "        x = self.fc2(x)\n",
    "        return x\n",
    "\n",
    "class Normalize(nn.Module):\n",
    "    def forward(self, x):\n",
    "        return (x - 0.1307)/0.3081\n",
    "\n",
    "# Add the data normalization as a first \"layer\" to the network\n",
    "# this allows us to search for adverserial examples to the real image, rather than\n",
    "# to the normalized image\n",
    "model = nn.Sequential(Normalize(), Net())\n",
    "\n",
    "model = model.to(device)\n",
    "model.train()"
   ]
  },
  {
   "cell_type": "markdown",
   "metadata": {
    "id": "NCmWfZHTO8Oo"
   },
   "source": [
    "# Implement the Attacks\n",
    "\n",
    "Functions are given a simple useful signature that you can start with. Feel free to extend the signature as you see fit.\n",
    "\n",
    "You may find it useful to create a 'batched' version of PGD that you can use to create the adversarial attack."
   ]
  },
  {
   "cell_type": "code",
   "execution_count": 51,
   "metadata": {
    "id": "EZjvA49yONqP"
   },
   "outputs": [],
   "source": [
    "\n",
    "\n",
    "def fgsm_untarget(model, x, y, eps):\n",
    "    #TODO: implement this as an intermediate step of PGD\n",
    "    # Notes: put the model in eval() mode for this function\n",
    "    model.eval()\n",
    "\n",
    "    x_prime = x.clone().detach()\n",
    "    x_prime.requires_grad = True\n",
    "    output = model(x_prime)\n",
    "    loss = F.cross_entropy(output, y)\n",
    "    loss.backward()\n",
    "\n",
    "    gradient = x_prime.grad\n",
    "    x_prime = x_prime + eps * gradient.sign()\n",
    "    #x_prime = torch.clamp(x_prime, x-eps, x+eps)\n",
    "    x_prime = torch.clamp(x_prime, 0, 1)\n",
    "\n",
    "    return x_prime\n",
    "\n",
    "def bim_untargeted(model, x, y, k=10, eps=0.1, eps_step=0.01):\n",
    "    #TODO: implement this \n",
    "    # Notes: put the model in eval() mode for this function\n",
    "    # x: input image\n",
    "    # y: ground truth label for x\n",
    "    # k: steps of FGSM\n",
    "    # eps: projection region for PGD (note the need for normalization before projection, as eps values are for inputs in [0,1])\n",
    "    # eps_step: step for one iteration of FGSM\n",
    "    model.eval()\n",
    "    x_prime = x.clone().detach()\n",
    "    for i in range(k):\n",
    "        x_prime = fgsm_untarget(model, x_prime, y, eps_step)\n",
    "        # ensure x_primt in the l-infite ball zone\n",
    "        x_prime = torch.clamp(x_prime, x + eps, x - eps)\n",
    "        x_prime = torch.clamp(x_prime, 0, 1)\n",
    "\n",
    "    return x_prime\n",
    "\n",
    "def pgd_untargeted(model, x, y, k=10, eps=0.1, eps_step=0.01):\n",
    "    #TODO: implement this \n",
    "    # Notes: put the model in eval() mode for this function\n",
    "    # x: input image\n",
    "    # y: ground truth label for x\n",
    "    # k: steps of FGSM\n",
    "    # eps: projection region for PGD (note the need for normalization before projection, as eps values are for inputs in [0,1])\n",
    "    # eps_step: step for one iteration of FGSM\n",
    "    model.eval()\n",
    "    x_prime = x.clone().detach()\n",
    "    x_prime += 2 * eps * (torch.rand_like(x_prime) - 0.5) # add a random noise to the initial x_prime\n",
    "    x_prime = torch.clamp(x_prime, 0, 1)\n",
    "\n",
    "    for i in range(k):\n",
    "        x_prime = fgsm_untarget(model, x_prime, y, eps_step)\n",
    "        # ensure x_primt in the l-infite ball zone\n",
    "        x_prime = torch.clamp(x_prime, x + eps, x - eps)\n",
    "        x_prime = torch.clamp(x_prime, 0, 1)\n",
    "\n",
    "    return x_prime"
   ]
  },
  {
   "cell_type": "markdown",
   "metadata": {
    "id": "0Mja_AB4RykO"
   },
   "source": [
    "# Implement Adversarial Training"
   ]
  },
  {
   "cell_type": "code",
   "execution_count": 43,
   "metadata": {
    "id": "V-sw8yKYONqQ"
   },
   "outputs": [],
   "source": [
    "def train_model(model, num_epochs, enable_defense=True, attack='pgd', eps=0.1, k=10):\n",
    "    # TODO: implement this function that trains a given model on the MNIST dataset.\n",
    "    # this is a general-purpose function for both standard training and adversarial training.\n",
    "    # (toggle enable_defense parameter to switch between training schemes)\n",
    "    opt = optim.SGD(model.parameters(), lr=0.1, momentum=0.95)\n",
    "    \n",
    "    for epoch in range(num_epochs):\n",
    "        model.train()\n",
    "        for  data, target in train_loader:\n",
    "            data = data.to(device)\n",
    "            target = target.to(device)\n",
    "            if enable_defense:\n",
    "                if attack == 'pgd':\n",
    "                    data_adv = pgd_untargeted(model, data, target, k=k, eps=eps)\n",
    "                else:\n",
    "                    print('Attack not implemented, skipping')\n",
    "                data = data_adv\n",
    "            model.train()\n",
    "            opt.zero_grad()\n",
    "            output = model(data)\n",
    "            loss = F.cross_entropy(output, target)\n",
    "            loss.backward()\n",
    "            opt.step()"
   ]
  },
  {
   "cell_type": "code",
   "execution_count": 47,
   "metadata": {},
   "outputs": [],
   "source": [
    "def test_model_on_attacks(model, attack='pgd', eps=0.1):\n",
    "    # TODO: implement this function to test the robust accuracy of the given model\n",
    "    # use pgd_untargeted() within this function\n",
    "    # model.eval()\n",
    "    \n",
    "    # correct = 0\n",
    "    # tot = 0\n",
    "    # for x, y in test_loader:\n",
    "    #     if attack == 'pgd':\n",
    "    #         data_adv = pgd_untargeted(model, x, y, eps=eps)\n",
    "    #     else:\n",
    "    #         print(f\"Unsupported attack type: {attack}, skipping\")\n",
    "    #         continue\n",
    "    #     output = model(data_adv)\n",
    "    #     pred = output.argmax(dim=1, keepdim=True)\n",
    "    #     correct += pred.eq(y.view_as(pred)).sum()\n",
    "    #     tot += y.size(0)\n",
    "\n",
    "    # robust_accuracy = correct / tot\n",
    "    # print(f'Robust Accuracy: {robust_accuracy}')\n",
    "    # return robust_accuracy\n",
    "    model.eval()\n",
    "    \n",
    "    correct = 0         # Correct predictions on clean data\n",
    "    correct_under_attack = 0     # Correct predictions on adversarial data\n",
    "    correct_both = 0\n",
    "    tot = 0             # Total number of samples\n",
    "    \n",
    "    for x, y in test_loader:\n",
    "        with torch.no_grad():\n",
    "            output = model(x)\n",
    "            pred = output.argmax(dim=1, keepdim=True)\n",
    "            correct += pred.eq(y.view_as(pred)).sum()\n",
    "        \n",
    "        # Generate adversarial examples\n",
    "        if attack == 'pgd':\n",
    "            x_attack = pgd_untargeted(model, x, y, eps=eps)\n",
    "        elif attack == 'fgsm':\n",
    "            x_attack = fgsm_untarget(model, x, y, eps)\n",
    "        elif attack == 'bim':\n",
    "            x_attack = bim_untargeted(model, x, y, eps=eps)\n",
    "        else:\n",
    "            print(f\"Unsupported attack type: {attack}, skipping\")\n",
    "            continue\n",
    "        \n",
    "        # Evaluate model on adversarial examples\n",
    "        with torch.no_grad():\n",
    "            output_attack = model(x_attack)\n",
    "            pred_attack = output_attack.argmax(dim=1, keepdim=True)\n",
    "            correct_under_attack += pred_attack.eq(y.view_as(pred_attack)).sum().item()\n",
    "        correct_both += sum(pred.eq(y.view_as(pred)) & pred_attack.eq(y.view_as(pred_attack)))\n",
    "        tot += y.size(0)\n",
    "    \n",
    "    standard_accuracy = correct / tot\n",
    "    roboust_accuracy = correct_both[0] / tot\n",
    "    adversial_accuracy = correct_under_attack / tot\n",
    " \n",
    "    \n",
    "    print(f'Standard Accuracy: {standard_accuracy}')\n",
    "    print(f'Robust Accuracy: {roboust_accuracy}')\n",
    "    print(f\"Adversial Accuracy:{adversial_accuracy}\")\n",
    "    "
   ]
  },
  {
   "cell_type": "markdown",
   "metadata": {
    "id": "ZPMdfEhtR3zm"
   },
   "source": [
    "# Study Accuracy, Quality, etc.\n",
    "\n",
    "Compare the various results and report your observations on the submission."
   ]
  },
  {
   "cell_type": "code",
   "execution_count": 5,
   "metadata": {
    "scrolled": true
   },
   "outputs": [],
   "source": [
    "## train the original model\n",
    "model = nn.Sequential(Normalize(), Net())\n",
    "model = model.to(device)\n",
    "model.train()\n",
    "\n",
    "train_model(model, 20, False)\n",
    "torch.save(model.state_dict(), 'weights.pt')"
   ]
  },
  {
   "cell_type": "code",
   "execution_count": null,
   "metadata": {},
   "outputs": [],
   "source": []
  },
  {
   "cell_type": "code",
   "execution_count": 39,
   "metadata": {},
   "outputs": [
    {
     "name": "stderr",
     "output_type": "stream",
     "text": [
      "/var/folders/1n/w6t2b14d7sscxykjcvh220680000gn/T/ipykernel_67937/4055164685.py:3: FutureWarning: You are using `torch.load` with `weights_only=False` (the current default value), which uses the default pickle module implicitly. It is possible to construct malicious pickle data which will execute arbitrary code during unpickling (See https://github.com/pytorch/pytorch/blob/main/SECURITY.md#untrusted-models for more details). In a future release, the default value for `weights_only` will be flipped to `True`. This limits the functions that could be executed during unpickling. Arbitrary objects will no longer be allowed to be loaded via this mode unless they are explicitly allowlisted by the user via `torch.serialization.add_safe_globals`. We recommend you start setting `weights_only=True` for any use case where you don't have full control of the loaded file. Please open an issue on GitHub for any issues related to this experimental feature.\n",
      "  model.load_state_dict(torch.load('weights.pt'))\n"
     ]
    },
    {
     "name": "stdout",
     "output_type": "stream",
     "text": [
      "0.05\n",
      "Standard Accuracy: 0.5360999703407288\n",
      "Robust Accuracy: 0.5293999910354614\n",
      "Adversial Accuracy:0.5301\n",
      "0.1\n",
      "Standard Accuracy: 0.5360999703407288\n",
      "Robust Accuracy: 0.5206999778747559\n",
      "Adversial Accuracy:0.522\n",
      "0.15\n",
      "Standard Accuracy: 0.5360999703407288\n",
      "Robust Accuracy: 0.5105999708175659\n",
      "Adversial Accuracy:0.5123\n",
      "0.2\n",
      "Standard Accuracy: 0.5360999703407288\n",
      "Robust Accuracy: 0.498199999332428\n",
      "Adversial Accuracy:0.5002\n"
     ]
    }
   ],
   "source": [
    "## PGD attack\n",
    "model = nn.Sequential(Normalize(), Net())\n",
    "model.load_state_dict(torch.load('weights.pt'))\n",
    "\n",
    "for eps in [0.05, 0.1, 0.15, 0.2]:\n",
    "    print(eps)\n",
    "    test_model_on_attacks(model, attack='pgd', eps=eps)"
   ]
  },
  {
   "cell_type": "code",
   "execution_count": 44,
   "metadata": {
    "id": "ufD-ccTFR8R2"
   },
   "outputs": [],
   "source": [
    "## PGD based adversarial training\n",
    "model = nn.Sequential(Normalize(), Net())\n",
    "eps = 0.1\n",
    "train_model(model, 20, True, 'pgd', eps, k=10)\n",
    "torch.save(model.state_dict(), f'weights_AT_{eps}.pt')"
   ]
  },
  {
   "cell_type": "code",
   "execution_count": 48,
   "metadata": {},
   "outputs": [
    {
     "name": "stderr",
     "output_type": "stream",
     "text": [
      "/var/folders/1n/w6t2b14d7sscxykjcvh220680000gn/T/ipykernel_67937/2623129632.py:3: FutureWarning: You are using `torch.load` with `weights_only=False` (the current default value), which uses the default pickle module implicitly. It is possible to construct malicious pickle data which will execute arbitrary code during unpickling (See https://github.com/pytorch/pytorch/blob/main/SECURITY.md#untrusted-models for more details). In a future release, the default value for `weights_only` will be flipped to `True`. This limits the functions that could be executed during unpickling. Arbitrary objects will no longer be allowed to be loaded via this mode unless they are explicitly allowlisted by the user via `torch.serialization.add_safe_globals`. We recommend you start setting `weights_only=True` for any use case where you don't have full control of the loaded file. Please open an issue on GitHub for any issues related to this experimental feature.\n",
      "  model.load_state_dict(torch.load('weights_AT_0.1.pt'))\n"
     ]
    },
    {
     "name": "stdout",
     "output_type": "stream",
     "text": [
      "0.05\n",
      "Standard Accuracy: 0.7522000074386597\n",
      "Robust Accuracy: 0.7070000171661377\n",
      "Adversial Accuracy:0.7074\n",
      "0.1\n",
      "Standard Accuracy: 0.7522000074386597\n",
      "Robust Accuracy: 0.7050999999046326\n",
      "Adversial Accuracy:0.7056\n",
      "0.15\n",
      "Standard Accuracy: 0.7522000074386597\n",
      "Robust Accuracy: 0.6887000203132629\n",
      "Adversial Accuracy:0.6896\n",
      "0.2\n",
      "Standard Accuracy: 0.7522000074386597\n",
      "Robust Accuracy: 0.6269999742507935\n",
      "Adversial Accuracy:0.6276\n"
     ]
    }
   ],
   "source": [
    "## PGD attack\n",
    "model = nn.Sequential(Normalize(), Net())\n",
    "model.load_state_dict(torch.load('weights_AT_0.1.pt'))\n",
    "\n",
    "for eps in [0.05, 0.1, 0.15, 0.2]:\n",
    "    print(eps)\n",
    "    test_model_on_attacks(model, attack='fgsm', eps=eps)"
   ]
  },
  {
   "cell_type": "code",
   "execution_count": null,
   "metadata": {},
   "outputs": [],
   "source": []
  }
 ],
 "metadata": {
  "colab": {
   "provenance": []
  },
  "kernelspec": {
   "display_name": "Python 3 (ipykernel)",
   "language": "python",
   "name": "python3"
  },
  "language_info": {
   "codemirror_mode": {
    "name": "ipython",
    "version": 3
   },
   "file_extension": ".py",
   "mimetype": "text/x-python",
   "name": "python",
   "nbconvert_exporter": "python",
   "pygments_lexer": "ipython3",
   "version": "3.9.6"
  }
 },
 "nbformat": 4,
 "nbformat_minor": 1
}
