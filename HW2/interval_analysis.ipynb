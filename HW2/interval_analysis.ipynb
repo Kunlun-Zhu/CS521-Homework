{
 "cells": [
  {
   "cell_type": "code",
   "execution_count": 3,
   "metadata": {},
   "outputs": [
    {
     "data": {
      "text/plain": [
       "Sequential(\n",
       "  (0): Normalize()\n",
       "  (1): Net(\n",
       "    (f1): Linear(in_features=784, out_features=50, bias=True)\n",
       "    (f2): Linear(in_features=50, out_features=50, bias=True)\n",
       "    (f3): Linear(in_features=50, out_features=50, bias=True)\n",
       "    (out): Linear(in_features=50, out_features=10, bias=True)\n",
       "  )\n",
       ")"
      ]
     },
     "execution_count": 3,
     "metadata": {},
     "output_type": "execute_result"
    }
   ],
   "source": [
    "import torch\n",
    "import torch.nn as nn\n",
    "import torch.optim as optim\n",
    "import torch.nn.functional as F\n",
    "import numpy as np\n",
    "import time\n",
    "import matplotlib.pyplot as plt\n",
    "\n",
    "from torchvision import datasets, transforms\n",
    "# from tensorboardX import SummaryWriter\n",
    "\n",
    "use_cuda = False\n",
    "device = torch.device(\"cuda\" if use_cuda else \"cpu\")\n",
    "batch_size = 64\n",
    "np.random.seed(42)\n",
    "torch.manual_seed(42)\n",
    "\n",
    "\n",
    "## Dataloaders\n",
    "train_dataset = datasets.MNIST('mnist_data/', train=True, download=True, transform=transforms.Compose(\n",
    "    [transforms.ToTensor()]\n",
    "))\n",
    "test_dataset = datasets.MNIST('mnist_data/', train=False, download=True, transform=transforms.Compose(\n",
    "    [transforms.ToTensor()]\n",
    "))\n",
    "\n",
    "train_loader = torch.utils.data.DataLoader(train_dataset, batch_size=batch_size, shuffle=True)\n",
    "test_loader = torch.utils.data.DataLoader(test_dataset, batch_size=1, shuffle=False)\n",
    "\n",
    "## Simple NN. You can change this if you want. If you change it, mention the architectural details in your report.\n",
    "class Net(nn.Module):\n",
    "    def __init__(self):\n",
    "        super(Net, self).__init__()\n",
    "        self.f1 = nn.Linear(28*28, 50)\n",
    "        self.f2 = nn.Linear(50, 50)\n",
    "        self.f3 = nn.Linear(50, 50)\n",
    "        self.out = nn.Linear(50, 10)\n",
    "        \n",
    "    def forward(self, x):\n",
    "        x = x.view(-1, 28*28)\n",
    "        x = F.relu(self.f1(x))\n",
    "        x = F.relu(self.f2(x))\n",
    "        x = F.relu(self.f3(x))\n",
    "        x = self.out(x)\n",
    "        return x\n",
    "\n",
    "class Normalize(nn.Module):\n",
    "    def forward(self, x):\n",
    "        return (x - 0.1307)/0.3081\n",
    "\n",
    "# Add the data normalization as a first \"layer\" to the network\n",
    "# this allows us to search for adverserial examples to the real image, rather than\n",
    "# to the normalized image\n",
    "model = nn.Sequential(Normalize(), Net())\n",
    "\n",
    "model = model.to(device)\n",
    "model.train()"
   ]
  },
  {
   "cell_type": "markdown",
   "metadata": {},
   "source": [
    "# Problem 2"
   ]
  },
  {
   "cell_type": "code",
   "execution_count": null,
   "metadata": {},
   "outputs": [],
   "source": [
    "import torch\n",
    "import torch.nn as nn\n",
    "import torch.optim as optim\n",
    "import torch.nn.functional as F\n",
    "import numpy as np\n",
    "import time\n",
    "import matplotlib.pyplot as plt\n",
    "\n",
    "from torchvision import datasets, transforms\n",
    "# from tensorboardX import SummaryWriter\n",
    "\n",
    "use_cuda = False\n",
    "device = torch.device(\"cuda\" if use_cuda else \"cpu\")\n",
    "batch_size = 64\n",
    "np.random.seed(42)\n",
    "torch.manual_seed(42)\n",
    "\n",
    "\n",
    "## Dataloaders\n",
    "train_dataset = datasets.MNIST('mnist_data/', train=True, download=True, transform=transforms.Compose(\n",
    "    [transforms.ToTensor()]\n",
    "))\n",
    "test_dataset = datasets.MNIST('mnist_data/', train=False, download=True, transform=transforms.Compose(\n",
    "    [transforms.ToTensor()]\n",
    "))\n",
    "\n",
    "train_loader = torch.utils.data.DataLoader(train_dataset, batch_size=batch_size, shuffle=True)\n",
    "test_loader = torch.utils.data.DataLoader(test_dataset, batch_size=1, shuffle=False)\n",
    "\n",
    "## Simple NN. You can change this if you want. If you change it, mention the architectural details in your report.\n",
    "class Net(nn.Module):\n",
    "    def __init__(self):\n",
    "        super(Net, self).__init__()\n",
    "        self.f1 = nn.Linear(28*28, 50)\n",
    "        self.f2 = nn.Linear(50, 50)\n",
    "        self.f3 = nn.Linear(50, 50)\n",
    "        self.out = nn.Linear(50, 10)\n",
    "        \n",
    "    def forward(self, x):\n",
    "        x = x.view(-1, 28*28)\n",
    "        x = F.relu(self.f1(x))\n",
    "        x = F.relu(self.f2(x))\n",
    "        x = F.relu(self.f3(x))\n",
    "        x = self.out(x)\n",
    "        return x\n",
    "\n",
    "class Normalize(nn.Module):\n",
    "    def forward(self, x):\n",
    "        return (x - 0.1307)/0.3081\n",
    "\n",
    "# Add the data normalization as a first \"layer\" to the network\n",
    "# this allows us to search for adverserial examples to the real image, rather than\n",
    "# to the normalized image\n",
    "model = nn.Sequential(Normalize(), Net())\n",
    "\n",
    "model = model.to(device)\n",
    "model.train()"
   ]
  },
  {
   "cell_type": "code",
   "execution_count": 17,
   "metadata": {},
   "outputs": [],
   "source": [
    "def train_model(model, num_epochs, learning_rate=0.1, momentum=0.95):\n",
    "    entropy_loss = nn.CrossEntropyLoss()\n",
    "    optimizer = optim.SGD(model.parameters(), lr=learning_rate, momentum=momentum)\n",
    "    \n",
    "    for _ in range(num_epochs):\n",
    "        model.train() \n",
    "        for (data, target) in train_loader:\n",
    "            data = data.to(device)\n",
    "            target = target.to(device)\n",
    "            \n",
    "            optimizer.zero_grad()           \n",
    "            outputs = model(data)           \n",
    "            loss = entropy_loss(outputs, target)\n",
    "            loss.backward()                 \n",
    "            optimizer.step()                "
   ]
  },
  {
   "cell_type": "code",
   "execution_count": 18,
   "metadata": {},
   "outputs": [],
   "source": [
    "train_model(model, 20)\n",
    "torch.save(model.state_dict(), 'weights.pt')"
   ]
  },
  {
   "cell_type": "code",
   "execution_count": 11,
   "metadata": {},
   "outputs": [
    {
     "name": "stderr",
     "output_type": "stream",
     "text": [
      "/var/folders/1n/w6t2b14d7sscxykjcvh220680000gn/T/ipykernel_96147/3283495263.py:3: FutureWarning: You are using `torch.load` with `weights_only=False` (the current default value), which uses the default pickle module implicitly. It is possible to construct malicious pickle data which will execute arbitrary code during unpickling (See https://github.com/pytorch/pytorch/blob/main/SECURITY.md#untrusted-models for more details). In a future release, the default value for `weights_only` will be flipped to `True`. This limits the functions that could be executed during unpickling. Arbitrary objects will no longer be allowed to be loaded via this mode unless they are explicitly allowlisted by the user via `torch.serialization.add_safe_globals`. We recommend you start setting `weights_only=True` for any use case where you don't have full control of the loaded file. Please open an issue on GitHub for any issues related to this experimental feature.\n",
      "  state_dict = torch.load('weights.pt')\n"
     ]
    },
    {
     "data": {
      "text/plain": [
       "<All keys matched successfully>"
      ]
     },
     "execution_count": 11,
     "metadata": {},
     "output_type": "execute_result"
    }
   ],
   "source": [
    "model = nn.Sequential(Normalize(), Net())\n",
    "\n",
    "state_dict = torch.load('weights.pt')\n",
    "model.load_state_dict(state_dict)"
   ]
  },
  {
   "cell_type": "code",
   "execution_count": 19,
   "metadata": {},
   "outputs": [
    {
     "name": "stdout",
     "output_type": "stream",
     "text": [
      "Model Accuracy on MNIST Test Set: 11.35%\n"
     ]
    }
   ],
   "source": [
    "def evaluate_model(model, test_loader, device):\n",
    "    model.eval()\n",
    "    correct = 0\n",
    "    total = 0\n",
    "    \n",
    "    with torch.no_grad(): \n",
    "        for data, target in test_loader:\n",
    "            data = data.to(device)\n",
    "            target = target.to(device)\n",
    "            outputs = model(data) \n",
    "            _, predicted = torch.max(outputs, 1) \n",
    "            total += target.size(0)\n",
    "            correct += (predicted == target).sum().item()\n",
    "\n",
    "    accuracy = 100.0 * correct / total\n",
    "    print(f'Model Accuracy on MNIST Test Set: {accuracy:.2f}%')\n",
    "    return accuracy\n",
    "\n",
    "accuracy = evaluate_model(model, test_loader, device)"
   ]
  },
  {
   "cell_type": "code",
   "execution_count": 29,
   "metadata": {},
   "outputs": [],
   "source": [
    "def interval_analysis(model, x, eps):\n",
    "    f1_weight = model[1].f1.weight.data \n",
    "    f1_bias = model[1].f1.bias.data   \n",
    "    \n",
    "    f2_weight = model[1].f2.weight.data\n",
    "    f2_bias = model[1].f2.bias.data  \n",
    "    \n",
    "    f3_weight = model[1].f3.weight.data \n",
    "    f3_bias = model[1].f3.bias.data \n",
    "    \n",
    "    out_weight = model[1].out.weight.data \n",
    "    out_bias = model[1].out.bias.data \n",
    "    \n",
    "    x_lower = x.view(-1) - eps\n",
    "    x_upper = x.view(-1) + eps\n",
    "\n",
    "    f1_lower = torch.zeros(50)\n",
    "    f1_upper = torch.zeros(50)\n",
    "    \n",
    "    for i in range(f1_weight.size(0)):\n",
    "        sum_lower = 0.0\n",
    "        sum_upper = 0.0\n",
    "        for j in range(f1_weight.size(1)): \n",
    "            w = f1_weight[i][j].item()\n",
    "            if w >=0:\n",
    "                sum_lower += w * x_lower[j]\n",
    "                sum_upper += w * x_upper[j]\n",
    "            else:\n",
    "                sum_lower += w * x_upper[j]\n",
    "                sum_upper += w * x_lower[j]\n",
    "        f1_lower[i] = sum_lower + f1_bias[i]\n",
    "        f1_upper[i] = sum_upper + f1_bias[i]\n",
    "\n",
    "    f1_lower = torch.clamp(f1_lower, min=0.0)\n",
    "    f1_upper = torch.clamp(f1_upper, min=0.0)\n",
    "\n",
    "    f2_lower = torch.zeros(50)\n",
    "    f2_upper = torch.zeros(50)\n",
    "    \n",
    "    for i in range(f2_weight.size(0)):\n",
    "        sum_lower = 0.0\n",
    "        sum_upper = 0.0\n",
    "        for j in range(f2_weight.size(1)):\n",
    "            w = f2_weight[i][j].item()\n",
    "            if w >=0:\n",
    "                sum_lower += w * f1_lower[j]\n",
    "                sum_upper += w * f1_upper[j]\n",
    "            else:\n",
    "                sum_lower += w * f1_upper[j]\n",
    "                sum_upper += w * f1_lower[j]\n",
    "        f2_lower[i] = sum_lower + f2_bias[i]\n",
    "        f2_upper[i] = sum_upper + f2_bias[i]\n",
    "\n",
    "    f2_lower = torch.clamp(f2_lower, min=0.0)\n",
    "    f2_upper = torch.clamp(f2_upper, min=0.0)\n",
    "\n",
    "    f3_lower = torch.zeros(50)\n",
    "    f3_upper = torch.zeros(50)\n",
    "    \n",
    "    for i in range(f3_weight.size(0)):\n",
    "        sum_lower = 0.0\n",
    "        sum_upper = 0.0\n",
    "        for j in range(f3_weight.size(1)):\n",
    "            w = f3_weight[i][j].item()\n",
    "            if w >=0:\n",
    "                sum_lower += w * f2_lower[j]\n",
    "                sum_upper += w * f2_upper[j]\n",
    "            else:\n",
    "                sum_lower += w * f2_upper[j]\n",
    "                sum_upper += w * f2_lower[j]\n",
    "        f3_lower[i] = sum_lower + f3_bias[i]\n",
    "        f3_upper[i] = sum_upper + f3_bias[i]\n",
    "    \n",
    "    f3_lower = torch.clamp(f3_lower, min=0.0)\n",
    "    f3_upper = torch.clamp(f3_upper, min=0.0)\n",
    "\n",
    "    out_lower = torch.zeros(10)\n",
    "    out_upper = torch.zeros(10)\n",
    "    \n",
    "    for i in range(out_weight.size(0)):\n",
    "        sum_lower = 0.0\n",
    "        sum_upper = 0.0\n",
    "        for j in range(out_weight.size(1)):\n",
    "            w = out_weight[i][j].item()\n",
    "            if w >=0:\n",
    "                sum_lower += w * f3_lower[j]\n",
    "                sum_upper += w * f3_upper[j]\n",
    "            else:\n",
    "                sum_lower += w * f3_upper[j]\n",
    "                sum_upper += w * f3_lower[j]\n",
    "        out_lower[i] = sum_lower + out_bias[i]\n",
    "        out_upper[i] = sum_upper + out_bias[i]\n",
    "    return out_lower, out_upper\n"
   ]
  },
  {
   "cell_type": "code",
   "execution_count": 32,
   "metadata": {},
   "outputs": [
    {
     "name": "stdout",
     "output_type": "stream",
     "text": [
      "Defaulting to user installation because normal site-packages is not writeable\n",
      "Requirement already satisfied: tqdm in /Users/zhukunlun/Library/Python/3.9/lib/python/site-packages (4.66.5)\n",
      "eps:  0.01\n"
     ]
    },
    {
     "name": "stderr",
     "output_type": "stream",
     "text": [
      "  1%|          | 99/10000 [00:57<1:35:06,  1.74it/s]\n"
     ]
    },
    {
     "name": "stdout",
     "output_type": "stream",
     "text": [
      "robust_rate:  0.14\n",
      "eps:  0.02\n"
     ]
    },
    {
     "name": "stderr",
     "output_type": "stream",
     "text": [
      "  1%|          | 99/10000 [00:56<1:33:43,  1.76it/s]\n"
     ]
    },
    {
     "name": "stdout",
     "output_type": "stream",
     "text": [
      "robust_rate:  0.14\n",
      "eps:  0.03\n"
     ]
    },
    {
     "name": "stderr",
     "output_type": "stream",
     "text": [
      "  1%|          | 99/10000 [00:55<1:31:54,  1.80it/s]\n"
     ]
    },
    {
     "name": "stdout",
     "output_type": "stream",
     "text": [
      "robust_rate:  0.14\n",
      "eps:  0.04\n"
     ]
    },
    {
     "name": "stderr",
     "output_type": "stream",
     "text": [
      "  1%|          | 99/10000 [00:54<1:30:23,  1.83it/s]\n"
     ]
    },
    {
     "name": "stdout",
     "output_type": "stream",
     "text": [
      "robust_rate:  0.13\n",
      "eps:  0.05\n"
     ]
    },
    {
     "name": "stderr",
     "output_type": "stream",
     "text": [
      "  1%|          | 99/10000 [00:55<1:32:24,  1.79it/s]\n"
     ]
    },
    {
     "name": "stdout",
     "output_type": "stream",
     "text": [
      "robust_rate:  0.12\n",
      "eps:  0.06\n"
     ]
    },
    {
     "name": "stderr",
     "output_type": "stream",
     "text": [
      "  1%|          | 99/10000 [01:30<2:31:07,  1.09it/s] \n"
     ]
    },
    {
     "name": "stdout",
     "output_type": "stream",
     "text": [
      "robust_rate:  0.11\n",
      "eps:  0.07\n"
     ]
    },
    {
     "name": "stderr",
     "output_type": "stream",
     "text": [
      "  1%|          | 99/10000 [01:02<1:44:48,  1.57it/s]\n"
     ]
    },
    {
     "name": "stdout",
     "output_type": "stream",
     "text": [
      "robust_rate:  0.09\n",
      "eps:  0.08\n"
     ]
    },
    {
     "name": "stderr",
     "output_type": "stream",
     "text": [
      "  1%|          | 99/10000 [01:00<1:40:57,  1.63it/s]\n"
     ]
    },
    {
     "name": "stdout",
     "output_type": "stream",
     "text": [
      "robust_rate:  0.05\n",
      "eps:  0.09\n"
     ]
    },
    {
     "name": "stderr",
     "output_type": "stream",
     "text": [
      "  1%|          | 99/10000 [00:56<1:33:28,  1.77it/s]\n"
     ]
    },
    {
     "name": "stdout",
     "output_type": "stream",
     "text": [
      "robust_rate:  0.04\n",
      "eps:  0.1\n"
     ]
    },
    {
     "name": "stderr",
     "output_type": "stream",
     "text": [
      "  1%|          | 99/10000 [00:57<1:35:09,  1.73it/s]"
     ]
    },
    {
     "name": "stdout",
     "output_type": "stream",
     "text": [
      "robust_rate:  0.04\n"
     ]
    },
    {
     "name": "stderr",
     "output_type": "stream",
     "text": [
      "\n"
     ]
    }
   ],
   "source": [
    "\n",
    "!pip install tqdm\n",
    "from tqdm import tqdm\n",
    "eps = [0.01 * i for i in range(1, 11)]\n",
    "robust_rates = []\n",
    "\n",
    "for e in eps:\n",
    "    robust_count = 0\n",
    "    process_count = 0\n",
    "    test_num = 100\n",
    "    print(\"eps: \", e)\n",
    "    for idx, (data, target) in enumerate(tqdm(test_loader)):\n",
    "        process_count += 1\n",
    "        data = data.to(device)\n",
    "        target = target.item()\n",
    "        \n",
    "\n",
    "        f_l, f_u = interval_analysis(model, data, e)\n",
    "        c_l = f_l[target]\n",
    "\n",
    "        incorrect_u = f_u\n",
    "        incorrect_u[target] = -1000\n",
    "\n",
    "        max_incorrect_u = torch.max(incorrect_u)\n",
    "        \n",
    "        if c_l > max_incorrect_u:\n",
    "            robust_count +=1\n",
    "        if process_count >= test_num:\n",
    "            break\n",
    "    robust_rate = robust_count / test_num\n",
    "    print(\"robust_rate: \", robust_rate)\n"
   ]
  },
  {
   "cell_type": "code",
   "execution_count": 33,
   "metadata": {},
   "outputs": [
    {
     "data": {
      "image/png": "[encoded data removed]",
      "text/plain": [
       "<Figure size 640x480 with 1 Axes>"
      ]
     },
     "metadata": {},
     "output_type": "display_data"
    }
   ],
   "source": [
    "import matplotlib.pyplot as plt\n",
    "\n",
    "eps = [0.01 * i for i in range(1, 11)]\n",
    "robust_rates = [0.14, 0.14, 0.14, 0.13, 0.12, 0.11, 0.09, 0.05, 0.04, 0.04]\n",
    "plt.plot(eps, robust_rates)\n",
    "plt.xlabel('Epsilon')\n",
    "plt.ylabel('Robust Rate')\n",
    "plt.title('Robust Rate vs Epsilon')\n",
    "plt.show()"
   ]
  }
 ],
 "metadata": {
  "kernelspec": {
   "display_name": "Python 3",
   "language": "python",
   "name": "python3"
  },
  "language_info": {
   "codemirror_mode": {
    "name": "ipython",
    "version": 3
   },
   "file_extension": ".py",
   "mimetype": "text/x-python",
   "name": "python",
   "nbconvert_exporter": "python",
   "pygments_lexer": "ipython3",
   "version": "3.9.6"
  }
 },
 "nbformat": 4,
 "nbformat_minor": 2
}
